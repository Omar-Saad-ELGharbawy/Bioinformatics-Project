{
 "cells": [
  {
   "cell_type": "code",
   "execution_count": 1,
   "id": "af40bd27",
   "metadata": {},
   "outputs": [],
   "source": [
    "import pandas as pd\n",
    "import networkx as nx\n",
    "import matplotlib.pyplot as plt\n",
    "\n",
    "# Standard library packages\n",
    "import io\n",
    "\n",
    "# Import Seaborn for graphics and plotting\n",
    "import seaborn as sns\n",
    "\n",
    "# Import bioservices module, to run remote UniProt queries\n",
    "from bioservices import UniProt"
   ]
  },
  {
   "cell_type": "markdown",
   "id": "e41aa70a",
   "metadata": {},
   "source": [
    "# Reading Data from txt file"
   ]
  },
  {
   "cell_type": "code",
   "execution_count": 2,
   "id": "fa13a2d3",
   "metadata": {},
   "outputs": [
    {
     "name": "stdout",
     "output_type": "stream",
     "text": [
      "True\n"
     ]
    }
   ],
   "source": [
    "FielName= \"PathLinker_2018_human-ppi-weighted-cap0_75.txt\"\n",
    "pathLinker_file = open ( FielName , 'r' )\n",
    "# print(pathLinker_file)\n",
    "print(pathLinker_file.readable())"
   ]
  },
  {
   "cell_type": "code",
   "execution_count": 3,
   "id": "a7e97368",
   "metadata": {},
   "outputs": [],
   "source": [
    "header_line = pathLinker_file.readline()\n",
    "data_lines = pathLinker_file.readlines()"
   ]
  },
  {
   "cell_type": "code",
   "execution_count": 4,
   "id": "e3d042d9",
   "metadata": {},
   "outputs": [
    {
     "data": {
      "text/plain": [
       "'#tail\\thead\\tedge_weight\\tedge_type\\n'"
      ]
     },
     "execution_count": 4,
     "metadata": {},
     "output_type": "execute_result"
    }
   ],
   "source": [
    "header_line"
   ]
  },
  {
   "cell_type": "code",
   "execution_count": 5,
   "id": "b6ceffa5",
   "metadata": {},
   "outputs": [
    {
     "data": {
      "text/plain": [
       "['#tail', 'head', 'edge_weight']"
      ]
     },
     "execution_count": 5,
     "metadata": {},
     "output_type": "execute_result"
    }
   ],
   "source": [
    "header_line.rstrip().split('\\t')[0:3]"
   ]
  },
  {
   "cell_type": "code",
   "execution_count": 6,
   "id": "cf92ae58",
   "metadata": {},
   "outputs": [],
   "source": [
    "# data_lines"
   ]
  },
  {
   "cell_type": "code",
   "execution_count": 7,
   "id": "f9a050bc",
   "metadata": {},
   "outputs": [
    {
     "data": {
      "text/plain": [
       "list"
      ]
     },
     "execution_count": 7,
     "metadata": {},
     "output_type": "execute_result"
    }
   ],
   "source": [
    "type(data_lines)"
   ]
  },
  {
   "cell_type": "code",
   "execution_count": 8,
   "id": "623da2a3",
   "metadata": {},
   "outputs": [
    {
     "data": {
      "text/plain": [
       "612516"
      ]
     },
     "execution_count": 8,
     "metadata": {},
     "output_type": "execute_result"
    }
   ],
   "source": [
    "len(data_lines)"
   ]
  },
  {
   "cell_type": "markdown",
   "id": "64522999",
   "metadata": {},
   "source": [
    "# Converting txt file to dataframe"
   ]
  },
  {
   "cell_type": "code",
   "execution_count": 9,
   "id": "1631ea20",
   "metadata": {},
   "outputs": [],
   "source": [
    "weighed_edges_list=[]\n",
    "for line in data_lines:\n",
    "    elements=line.split('\\t')\n",
    "    tail,head = elements[0:2]\n",
    "    edge_weight = eval(elements[2])\n",
    "#     DG.add_weighted_edges_from((tail,head, edge_weight))\n",
    "    weighed_edges_list.append((tail , head , edge_weight))\n",
    "# weighed_edges_list"
   ]
  },
  {
   "cell_type": "code",
   "execution_count": 10,
   "id": "6c421cf5",
   "metadata": {},
   "outputs": [
    {
     "data": {
      "text/plain": [
       "612516"
      ]
     },
     "execution_count": 10,
     "metadata": {},
     "output_type": "execute_result"
    }
   ],
   "source": [
    "len(weighed_edges_list)"
   ]
  },
  {
   "cell_type": "code",
   "execution_count": 11,
   "id": "391a8675",
   "metadata": {},
   "outputs": [
    {
     "data": {
      "text/html": [
       "<div>\n",
       "<style scoped>\n",
       "    .dataframe tbody tr th:only-of-type {\n",
       "        vertical-align: middle;\n",
       "    }\n",
       "\n",
       "    .dataframe tbody tr th {\n",
       "        vertical-align: top;\n",
       "    }\n",
       "\n",
       "    .dataframe thead th {\n",
       "        text-align: right;\n",
       "    }\n",
       "</style>\n",
       "<table border=\"1\" class=\"dataframe\">\n",
       "  <thead>\n",
       "    <tr style=\"text-align: right;\">\n",
       "      <th></th>\n",
       "      <th>Tail</th>\n",
       "      <th>Head</th>\n",
       "      <th>Edge_weight</th>\n",
       "    </tr>\n",
       "  </thead>\n",
       "  <tbody>\n",
       "    <tr>\n",
       "      <th>0</th>\n",
       "      <td>Q8TBF5</td>\n",
       "      <td>Q9UKB1</td>\n",
       "      <td>0.311133</td>\n",
       "    </tr>\n",
       "    <tr>\n",
       "      <th>1</th>\n",
       "      <td>Q8TBF4</td>\n",
       "      <td>Q15717</td>\n",
       "      <td>0.311133</td>\n",
       "    </tr>\n",
       "    <tr>\n",
       "      <th>2</th>\n",
       "      <td>Q8TBF4</td>\n",
       "      <td>P08865</td>\n",
       "      <td>0.311133</td>\n",
       "    </tr>\n",
       "    <tr>\n",
       "      <th>3</th>\n",
       "      <td>Q8TBF4</td>\n",
       "      <td>Q02539</td>\n",
       "      <td>0.311133</td>\n",
       "    </tr>\n",
       "    <tr>\n",
       "      <th>4</th>\n",
       "      <td>Q8TBF4</td>\n",
       "      <td>Q96J01</td>\n",
       "      <td>0.201461</td>\n",
       "    </tr>\n",
       "    <tr>\n",
       "      <th>...</th>\n",
       "      <td>...</td>\n",
       "      <td>...</td>\n",
       "      <td>...</td>\n",
       "    </tr>\n",
       "    <tr>\n",
       "      <th>612511</th>\n",
       "      <td>Q17RB8</td>\n",
       "      <td>Q969G2</td>\n",
       "      <td>0.608042</td>\n",
       "    </tr>\n",
       "    <tr>\n",
       "      <th>612512</th>\n",
       "      <td>Q17RB8</td>\n",
       "      <td>Q06710</td>\n",
       "      <td>0.181552</td>\n",
       "    </tr>\n",
       "    <tr>\n",
       "      <th>612513</th>\n",
       "      <td>Q17RB8</td>\n",
       "      <td>P15374</td>\n",
       "      <td>0.280419</td>\n",
       "    </tr>\n",
       "    <tr>\n",
       "      <th>612514</th>\n",
       "      <td>Q17RB8</td>\n",
       "      <td>Q5JST6</td>\n",
       "      <td>0.608042</td>\n",
       "    </tr>\n",
       "    <tr>\n",
       "      <th>612515</th>\n",
       "      <td>Q3LFD5</td>\n",
       "      <td>Q9UMW8</td>\n",
       "      <td>0.710749</td>\n",
       "    </tr>\n",
       "  </tbody>\n",
       "</table>\n",
       "<p>612516 rows × 3 columns</p>\n",
       "</div>"
      ],
      "text/plain": [
       "          Tail    Head  Edge_weight\n",
       "0       Q8TBF5  Q9UKB1     0.311133\n",
       "1       Q8TBF4  Q15717     0.311133\n",
       "2       Q8TBF4  P08865     0.311133\n",
       "3       Q8TBF4  Q02539     0.311133\n",
       "4       Q8TBF4  Q96J01     0.201461\n",
       "...        ...     ...          ...\n",
       "612511  Q17RB8  Q969G2     0.608042\n",
       "612512  Q17RB8  Q06710     0.181552\n",
       "612513  Q17RB8  P15374     0.280419\n",
       "612514  Q17RB8  Q5JST6     0.608042\n",
       "612515  Q3LFD5  Q9UMW8     0.710749\n",
       "\n",
       "[612516 rows x 3 columns]"
      ]
     },
     "execution_count": 11,
     "metadata": {},
     "output_type": "execute_result"
    }
   ],
   "source": [
    "# create DataFrame using data\n",
    "weighted_edges_df = pd.DataFrame(weighed_edges_list, columns =['Tail', 'Head', 'Edge_weight'])\n",
    "weighted_edges_df"
   ]
  },
  {
   "cell_type": "code",
   "execution_count": 12,
   "id": "35de456e",
   "metadata": {},
   "outputs": [],
   "source": [
    "unique_tails = weighted_edges_df.Tail.unique()"
   ]
  },
  {
   "cell_type": "code",
   "execution_count": 13,
   "id": "db0b581c",
   "metadata": {},
   "outputs": [],
   "source": [
    "unique_heads = weighted_edges_df.Head.unique()"
   ]
  },
  {
   "cell_type": "code",
   "execution_count": 14,
   "id": "65434c5c",
   "metadata": {},
   "outputs": [
    {
     "name": "stdout",
     "output_type": "stream",
     "text": [
      "['Q8TBF5' 'Q8TBF4' 'Q5MIZ7' ... 'Q7Z739' 'Q17RB8' 'Q3LFD5']\n",
      "17082\n",
      "['Q9UKB1' 'Q15717' 'P08865' ... 'Q008S8' 'Q8N4T0' 'Q8IXL9']\n",
      "17095\n"
     ]
    }
   ],
   "source": [
    "print(unique_tails)\n",
    "print(len(unique_tails))\n",
    "print(unique_heads)\n",
    "print(len(unique_heads))"
   ]
  },
  {
   "cell_type": "markdown",
   "id": "835a05f2",
   "metadata": {},
   "source": [
    "# Graph"
   ]
  },
  {
   "cell_type": "markdown",
   "id": "7342c90a",
   "metadata": {},
   "source": [
    "## Construct a graph (biological network)"
   ]
  },
  {
   "cell_type": "code",
   "execution_count": 15,
   "id": "95c421c8",
   "metadata": {},
   "outputs": [],
   "source": [
    "DG = nx.DiGraph()"
   ]
  },
  {
   "cell_type": "code",
   "execution_count": 16,
   "id": "56ba594a",
   "metadata": {},
   "outputs": [],
   "source": [
    "DG.add_weighted_edges_from(weighed_edges_list)"
   ]
  },
  {
   "cell_type": "code",
   "execution_count": 17,
   "id": "e6a0ab64",
   "metadata": {},
   "outputs": [],
   "source": [
    "# weight_labels = nx.get_edge_attributes(DG,'weight')\n",
    "# weight_labels"
   ]
  },
  {
   "cell_type": "code",
   "execution_count": 18,
   "id": "63084720",
   "metadata": {},
   "outputs": [],
   "source": [
    "# weight_labels"
   ]
  },
  {
   "cell_type": "code",
   "execution_count": 19,
   "id": "e1458ad9",
   "metadata": {},
   "outputs": [],
   "source": [
    "# len(weight_labels)"
   ]
  },
  {
   "cell_type": "markdown",
   "id": "83704eb5",
   "metadata": {},
   "source": [
    "## List the acyclic shortest path(s) between two proteins in a text file.\n",
    "* Provide the total path score.\n",
    "* Provide the weight of each interaction in the path(s).\n",
    "* If more than one path, report all the paths.\n",
    "* Draw the sub-network formed by these shortest paths."
   ]
  },
  {
   "cell_type": "code",
   "execution_count": 20,
   "id": "438092c5",
   "metadata": {},
   "outputs": [],
   "source": [
    "# shortest_path = ([p for p in nx.shortest_path(DG, source=\"P20933\", target=\"Q15303\", weight='weight')])\n",
    "# shortest_path"
   ]
  },
  {
   "cell_type": "code",
   "execution_count": 21,
   "id": "c8f11d50",
   "metadata": {},
   "outputs": [
    {
     "data": {
      "text/plain": [
       "[['P20933', 'Q9Y3A3', 'Q68CZ1', 'P04637', 'Q15303'],\n",
       " ['P20933', 'Q9Y3A3', 'Q6ZU80', 'P04637', 'Q15303'],\n",
       " ['P20933', 'Q9Y3A3', 'O15259', 'P22681', 'Q15303'],\n",
       " ['P20933', 'Q9Y3A3', 'Q6ZU80', 'P22681', 'Q15303'],\n",
       " ['P20933', 'Q9Y3A3', 'Q96ST8', 'P46108', 'Q15303'],\n",
       " ['P20933', 'Q9Y3A3', 'Q6ZU80', 'P46108', 'Q15303']]"
      ]
     },
     "execution_count": 21,
     "metadata": {},
     "output_type": "execute_result"
    }
   ],
   "source": [
    "weighted_shortest_paths= ([p for p in nx.all_shortest_paths(DG, source=\"P20933\", target=\"Q15303\", weight='weight')])\n",
    "weighted_shortest_paths"
   ]
  },
  {
   "cell_type": "code",
   "execution_count": 22,
   "id": "80cd2ab8",
   "metadata": {},
   "outputs": [
    {
     "data": {
      "text/plain": [
       "0.6889442"
      ]
     },
     "execution_count": 22,
     "metadata": {},
     "output_type": "execute_result"
    }
   ],
   "source": [
    "total_path_score = nx.shortest_path_length(DG,source=\"P20933\", target=\"Q15303\", weight='weight')\n",
    "total_path_score"
   ]
  },
  {
   "cell_type": "code",
   "execution_count": 23,
   "id": "574fe0fd",
   "metadata": {},
   "outputs": [
    {
     "data": {
      "text/plain": [
       "0.311133"
      ]
     },
     "execution_count": 23,
     "metadata": {},
     "output_type": "execute_result"
    }
   ],
   "source": [
    "nx.path_weight(DG,('P20933', 'Q9Y3A3') , weight ='weight')"
   ]
  },
  {
   "cell_type": "code",
   "execution_count": 24,
   "id": "75ef4635",
   "metadata": {},
   "outputs": [
    {
     "name": "stdout",
     "output_type": "stream",
     "text": [
      "[('P20933', 'Q9Y3A3', 0.311133), ('Q9Y3A3', 'Q68CZ1', 0.0333391), ('Q68CZ1', 'P04637', 0.0333391), ('P04637', 'Q15303', 0.311133)]\n",
      "**********\n",
      "[('P20933', 'Q9Y3A3', 0.311133), ('Q9Y3A3', 'Q6ZU80', 0.0333391), ('Q6ZU80', 'P04637', 0.0333391), ('P04637', 'Q15303', 0.311133)]\n",
      "**********\n",
      "[('P20933', 'Q9Y3A3', 0.311133), ('Q9Y3A3', 'O15259', 0.0333391), ('O15259', 'P22681', 0.0333391), ('P22681', 'Q15303', 0.311133)]\n",
      "**********\n",
      "[('P20933', 'Q9Y3A3', 0.311133), ('Q9Y3A3', 'Q6ZU80', 0.0333391), ('Q6ZU80', 'P22681', 0.0333391), ('P22681', 'Q15303', 0.311133)]\n",
      "**********\n",
      "[('P20933', 'Q9Y3A3', 0.311133), ('Q9Y3A3', 'Q96ST8', 0.0333391), ('Q96ST8', 'P46108', 0.0333391), ('P46108', 'Q15303', 0.311133)]\n",
      "**********\n",
      "[('P20933', 'Q9Y3A3', 0.311133), ('Q9Y3A3', 'Q6ZU80', 0.0333391), ('Q6ZU80', 'P46108', 0.0333391), ('P46108', 'Q15303', 0.311133)]\n",
      "**********\n"
     ]
    }
   ],
   "source": [
    "sub_network = nx.DiGraph()\n",
    "all_paths_edges = []\n",
    "for shortest_path in weighted_shortest_paths :\n",
    "    paths_edges = [tuple([shortest_path[i],shortest_path[i+1],nx.path_weight(DG,([shortest_path[i],shortest_path[i+1]]), weight ='weight')]) for i in range(len(shortest_path)-1)]\n",
    "    print(paths_edges)\n",
    "#   add path edges to the new sub network\n",
    "    sub_network.add_weighted_edges_from(paths_edges)\n",
    "    all_paths_edges.append(paths_edges)\n",
    "    print(\"*\"*10)"
   ]
  },
  {
   "cell_type": "code",
   "execution_count": 25,
   "id": "65ee4f4d",
   "metadata": {},
   "outputs": [
    {
     "data": {
      "text/plain": [
       "[[('P20933', 'Q9Y3A3', 0.311133),\n",
       "  ('Q9Y3A3', 'Q68CZ1', 0.0333391),\n",
       "  ('Q68CZ1', 'P04637', 0.0333391),\n",
       "  ('P04637', 'Q15303', 0.311133)],\n",
       " [('P20933', 'Q9Y3A3', 0.311133),\n",
       "  ('Q9Y3A3', 'Q6ZU80', 0.0333391),\n",
       "  ('Q6ZU80', 'P04637', 0.0333391),\n",
       "  ('P04637', 'Q15303', 0.311133)],\n",
       " [('P20933', 'Q9Y3A3', 0.311133),\n",
       "  ('Q9Y3A3', 'O15259', 0.0333391),\n",
       "  ('O15259', 'P22681', 0.0333391),\n",
       "  ('P22681', 'Q15303', 0.311133)],\n",
       " [('P20933', 'Q9Y3A3', 0.311133),\n",
       "  ('Q9Y3A3', 'Q6ZU80', 0.0333391),\n",
       "  ('Q6ZU80', 'P22681', 0.0333391),\n",
       "  ('P22681', 'Q15303', 0.311133)],\n",
       " [('P20933', 'Q9Y3A3', 0.311133),\n",
       "  ('Q9Y3A3', 'Q96ST8', 0.0333391),\n",
       "  ('Q96ST8', 'P46108', 0.0333391),\n",
       "  ('P46108', 'Q15303', 0.311133)],\n",
       " [('P20933', 'Q9Y3A3', 0.311133),\n",
       "  ('Q9Y3A3', 'Q6ZU80', 0.0333391),\n",
       "  ('Q6ZU80', 'P46108', 0.0333391),\n",
       "  ('P46108', 'Q15303', 0.311133)]]"
      ]
     },
     "execution_count": 25,
     "metadata": {},
     "output_type": "execute_result"
    }
   ],
   "source": [
    "all_paths_edges"
   ]
  },
  {
   "cell_type": "code",
   "execution_count": 26,
   "id": "8a8fb3f2",
   "metadata": {},
   "outputs": [],
   "source": [
    "pos = nx.spring_layout(sub_network)\n",
    "sub_weight_labels = nx.get_edge_attributes(sub_network,'weight')"
   ]
  },
  {
   "cell_type": "code",
   "execution_count": 27,
   "id": "85bb532a",
   "metadata": {},
   "outputs": [
    {
     "data": {
      "image/png": "[encoded data removed]",
      "text/plain": [
       "<Figure size 432x288 with 1 Axes>"
      ]
     },
     "metadata": {},
     "output_type": "display_data"
    }
   ],
   "source": [
    "two_nodes = ['P20933', 'Q15303']\n",
    "# nodecol = ['red' for node in two_nodes]\n",
    "nodecol = ['steelblue' if not node in two_nodes else 'red' for node in sub_network.nodes()]\n",
    "nx.draw(sub_network,pos, with_labels = True, node_color = nodecol)"
   ]
  },
  {
   "cell_type": "code",
   "execution_count": 50,
   "id": "7df86192",
   "metadata": {},
   "outputs": [
    {
     "data": {
      "image/png": "[encoded data removed]",
      "text/plain": [
       "<Figure size 432x288 with 1 Axes>"
      ]
     },
     "metadata": {},
     "output_type": "display_data"
    }
   ],
   "source": [
    "nx.draw(sub_network,pos, with_labels = True, node_color = nodecol)\n",
    "nx.draw_networkx_edge_labels(sub_network,pos,font_size=7,edge_labels=sub_weight_labels);"
   ]
  },
  {
   "cell_type": "code",
   "execution_count": 54,
   "id": "70d9f1ae",
   "metadata": {},
   "outputs": [
    {
     "data": {
      "text/plain": [
       "[['P20933', 'Q9Y3A3', 'Q68CZ1', 'P04637', 'Q15303'],\n",
       " ['P20933', 'Q9Y3A3', 'Q6ZU80', 'P04637', 'Q15303'],\n",
       " ['P20933', 'Q9Y3A3', 'O15259', 'P22681', 'Q15303'],\n",
       " ['P20933', 'Q9Y3A3', 'Q6ZU80', 'P22681', 'Q15303'],\n",
       " ['P20933', 'Q9Y3A3', 'Q96ST8', 'P46108', 'Q15303'],\n",
       " ['P20933', 'Q9Y3A3', 'Q6ZU80', 'P46108', 'Q15303']]"
      ]
     },
     "execution_count": 54,
     "metadata": {},
     "output_type": "execute_result"
    }
   ],
   "source": [
    "weighted_shortest_paths"
   ]
  },
  {
   "cell_type": "code",
   "execution_count": 53,
   "id": "f872854c",
   "metadata": {},
   "outputs": [],
   "source": [
    "shortest_paths_number = len(weighted_shortest_paths)\n",
    "source = \"P20933\"\n",
    "target = \"Q15303\"\n",
    "first_line = f\"Shortest paths between {source} and {target} Proteins\\n\\nNumber of shortest paths :{shortest_paths_number}\"\n",
    "\n",
    "shortest_path_file = open (\"Acyclic_shortest_path.txt\",'w')\n",
    "shortest_path_file.write(first_line)\n",
    "shortest_path_file.write(\"\\nTotal path score : %f \\n\\n\" %(total_path_score))\n",
    "\n",
    "for idx ,shortest_path in enumerate(weighted_shortest_paths):\n",
    "    shortest_path_file.write(f\"Path {idx} : \\n\")\n",
    "    nodes_joined = \" > \".join(shortest_path)\n",
    "    \n",
    "    shortest_path_file.write(f\"{nodes_joined} \")\n",
    "    shortest_path_file.write(\"\\n\\n\\tTail\\tHead\\tEdge_weight\\n\")\n",
    "\n",
    "    for edges in all_paths_edges[idx]:\n",
    "#         print(f\"\\t{edges[0]}\\t{edges[1]}\\t{edges[2]}\\n\")\n",
    "        shortest_path_file.write(f\"\\t{edges[0]}\\t{edges[1]}\\t{edges[2]}\\n\")\n",
    "\n",
    "#         print()\n",
    "    shortest_path_file.write(\"\\n\")\n",
    "shortest_path_file.close()"
   ]
  },
  {
   "cell_type": "markdown",
   "id": "6ae3998b",
   "metadata": {},
   "source": [
    "## Given one protein, list all the directly connected proteins to it in a text file.\n",
    "* Report the degree (number of connections) of this protein in a separate line.\n",
    "* Provide each connected protein in a line with its corresponding interaction weight."
   ]
  },
  {
   "cell_type": "code",
   "execution_count": 30,
   "id": "020f67bc",
   "metadata": {},
   "outputs": [],
   "source": [
    "req_protein = \"Q5MIZ7\""
   ]
  },
  {
   "cell_type": "code",
   "execution_count": 31,
   "id": "cc078b53",
   "metadata": {},
   "outputs": [
    {
     "name": "stdout",
     "output_type": "stream",
     "text": [
      "['Q8N490', 'Q53ET0', 'P51648', 'P04629', 'P46379', 'P16104', 'Q99689', 'P62714', 'Q9H3S7', 'Q16719', 'Q86VU5', 'Q96LJ8', 'Q07866', 'P27348', 'Q9NR45', 'P07384', 'P30084', 'O75439', 'Q9H0B6', 'P33176', 'P62829', 'P35557', 'O60610', 'Q53H82', 'O14745', 'Q00839', 'Q13263', 'Q96KP4', 'Q9NY27', 'P60510', 'P21980', 'Q9BZF1', 'Q14103']\n",
      "33\n"
     ]
    },
    {
     "data": {
      "text/plain": [
       "33"
      ]
     },
     "execution_count": 31,
     "metadata": {},
     "output_type": "execute_result"
    }
   ],
   "source": [
    "successors = [n for n in DG.successors(req_protein)]\n",
    "print(successors)\n",
    "print(len(successors))\n",
    "DG.out_degree(req_protein)"
   ]
  },
  {
   "cell_type": "code",
   "execution_count": 32,
   "id": "43746d35",
   "metadata": {},
   "outputs": [
    {
     "name": "stdout",
     "output_type": "stream",
     "text": [
      "['P62829', 'Q99689', 'O14745', 'P27348', 'P30084', 'Q86VU5', 'Q14103', 'P04629', 'Q96LJ8', 'Q00839', 'P35557', 'P60510', 'Q13263', 'P07384', 'Q9H3S7', 'Q53H82', 'Q9BZF1', 'O75439', 'O60610', 'P62714', 'Q07866', 'P21980', 'Q9NR45', 'Q96KP4', 'P46379', 'P51648', 'Q9NY27', 'Q9H0B6', 'Q8N490', 'P33176', 'Q16719']\n",
      "31\n",
      "31\n"
     ]
    }
   ],
   "source": [
    "predecessors = [n for n in DG.predecessors(req_protein)]\n",
    "print(predecessors)\n",
    "print(len(predecessors))\n",
    "print(DG.in_degree(req_protein))\n",
    "in_degree = DG.in_degree(req_protein)"
   ]
  },
  {
   "cell_type": "code",
   "execution_count": 33,
   "id": "f3ae1e42",
   "metadata": {},
   "outputs": [
    {
     "data": {
      "text/plain": [
       "64"
      ]
     },
     "execution_count": 33,
     "metadata": {},
     "output_type": "execute_result"
    }
   ],
   "source": [
    "DG.degree(req_protein)"
   ]
  },
  {
   "cell_type": "code",
   "execution_count": 34,
   "id": "b8bc580e",
   "metadata": {},
   "outputs": [],
   "source": [
    "protein_predecessors_file = open (f\"{req_protein}_predecessors.txt\",'w')\n",
    "protein_predecessors_file.write(f\"{req_protein} In Degree = %d \\n\" %(in_degree))\n",
    "protein_predecessors_file.write(\"\\nTail\\tHead\\tEdge_weight\\n\")\n",
    "\n",
    "for tail in predecessors:\n",
    "    protein_predecessors_file.write(f\"{tail}\\t{req_protein}\\t{nx.path_weight(DG,(tail,req_protein), weight ='weight')}\\n\")\n",
    "    \n",
    "protein_predecessors_file.close()"
   ]
  },
  {
   "cell_type": "code",
   "execution_count": 35,
   "id": "77d69c69",
   "metadata": {},
   "outputs": [],
   "source": [
    "# weighted_edges_df[weighted_edges_df[\"Head\"]==req_protein]"
   ]
  },
  {
   "cell_type": "markdown",
   "id": "663a0b77",
   "metadata": {},
   "source": [
    "## Given a set of proteins:\n",
    "* Draw a histogram for the proteins degree.\n",
    "* Rank these proteins from the highly connected to the least in a text file, where each line is a protein and its corresponding degree."
   ]
  },
  {
   "cell_type": "code",
   "execution_count": 36,
   "id": "418c4e32",
   "metadata": {},
   "outputs": [],
   "source": [
    "proteins_set = ['P62829', 'Q99689', 'O14745', 'P27348', 'P30084', 'Q86VU5', 'Q14103']"
   ]
  },
  {
   "cell_type": "code",
   "execution_count": 37,
   "id": "746eb712",
   "metadata": {},
   "outputs": [
    {
     "name": "stdout",
     "output_type": "stream",
     "text": [
      "[216, 61, 91, 454, 92, 61, 326]\n",
      "7\n",
      "[216, 58, 87, 460, 92, 60, 323]\n",
      "7\n"
     ]
    }
   ],
   "source": [
    "#DG.nodes() \n",
    "in_degrees = [DG.in_degree(n) for n in proteins_set]\n",
    "out_degrees = [DG.out_degree(n) for n in proteins_set]\n",
    "degrees = [DG.degree(n) for n in proteins_set]\n",
    "\n",
    "\n",
    "\n",
    "print(in_degrees)\n",
    "print(len(in_degrees))\n",
    "print(out_degrees)\n",
    "print(len(out_degrees))"
   ]
  },
  {
   "cell_type": "code",
   "execution_count": 38,
   "id": "bd00dda7",
   "metadata": {},
   "outputs": [
    {
     "data": {
      "text/html": [
       "<div>\n",
       "<style scoped>\n",
       "    .dataframe tbody tr th:only-of-type {\n",
       "        vertical-align: middle;\n",
       "    }\n",
       "\n",
       "    .dataframe tbody tr th {\n",
       "        vertical-align: top;\n",
       "    }\n",
       "\n",
       "    .dataframe thead th {\n",
       "        text-align: right;\n",
       "    }\n",
       "</style>\n",
       "<table border=\"1\" class=\"dataframe\">\n",
       "  <thead>\n",
       "    <tr style=\"text-align: right;\">\n",
       "      <th></th>\n",
       "      <th>Proteins</th>\n",
       "      <th>In_Degree</th>\n",
       "      <th>Out_Degree</th>\n",
       "      <th>Degrees</th>\n",
       "    </tr>\n",
       "  </thead>\n",
       "  <tbody>\n",
       "    <tr>\n",
       "      <th>0</th>\n",
       "      <td>P62829</td>\n",
       "      <td>216</td>\n",
       "      <td>216</td>\n",
       "      <td>432</td>\n",
       "    </tr>\n",
       "    <tr>\n",
       "      <th>1</th>\n",
       "      <td>Q99689</td>\n",
       "      <td>61</td>\n",
       "      <td>58</td>\n",
       "      <td>119</td>\n",
       "    </tr>\n",
       "    <tr>\n",
       "      <th>2</th>\n",
       "      <td>O14745</td>\n",
       "      <td>91</td>\n",
       "      <td>87</td>\n",
       "      <td>178</td>\n",
       "    </tr>\n",
       "    <tr>\n",
       "      <th>3</th>\n",
       "      <td>P27348</td>\n",
       "      <td>454</td>\n",
       "      <td>460</td>\n",
       "      <td>914</td>\n",
       "    </tr>\n",
       "    <tr>\n",
       "      <th>4</th>\n",
       "      <td>P30084</td>\n",
       "      <td>92</td>\n",
       "      <td>92</td>\n",
       "      <td>184</td>\n",
       "    </tr>\n",
       "    <tr>\n",
       "      <th>5</th>\n",
       "      <td>Q86VU5</td>\n",
       "      <td>61</td>\n",
       "      <td>60</td>\n",
       "      <td>121</td>\n",
       "    </tr>\n",
       "    <tr>\n",
       "      <th>6</th>\n",
       "      <td>Q14103</td>\n",
       "      <td>326</td>\n",
       "      <td>323</td>\n",
       "      <td>649</td>\n",
       "    </tr>\n",
       "  </tbody>\n",
       "</table>\n",
       "</div>"
      ],
      "text/plain": [
       "  Proteins  In_Degree  Out_Degree  Degrees\n",
       "0   P62829        216         216      432\n",
       "1   Q99689         61          58      119\n",
       "2   O14745         91          87      178\n",
       "3   P27348        454         460      914\n",
       "4   P30084         92          92      184\n",
       "5   Q86VU5         61          60      121\n",
       "6   Q14103        326         323      649"
      ]
     },
     "execution_count": 38,
     "metadata": {},
     "output_type": "execute_result"
    }
   ],
   "source": [
    "proteins_degrees = pd.DataFrame(list(zip(proteins_set, in_degrees, out_degrees, degrees)),columns =['Proteins', 'In_Degree' , 'Out_Degree',\"Degrees\"])\n",
    "proteins_degrees"
   ]
  },
  {
   "cell_type": "code",
   "execution_count": 39,
   "id": "3397ba5b",
   "metadata": {},
   "outputs": [
    {
     "data": {
      "text/html": [
       "<div>\n",
       "<style scoped>\n",
       "    .dataframe tbody tr th:only-of-type {\n",
       "        vertical-align: middle;\n",
       "    }\n",
       "\n",
       "    .dataframe tbody tr th {\n",
       "        vertical-align: top;\n",
       "    }\n",
       "\n",
       "    .dataframe thead th {\n",
       "        text-align: right;\n",
       "    }\n",
       "</style>\n",
       "<table border=\"1\" class=\"dataframe\">\n",
       "  <thead>\n",
       "    <tr style=\"text-align: right;\">\n",
       "      <th></th>\n",
       "      <th>Proteins</th>\n",
       "      <th>In_Degree</th>\n",
       "      <th>Out_Degree</th>\n",
       "      <th>Degrees</th>\n",
       "    </tr>\n",
       "  </thead>\n",
       "  <tbody>\n",
       "    <tr>\n",
       "      <th>3</th>\n",
       "      <td>P27348</td>\n",
       "      <td>454</td>\n",
       "      <td>460</td>\n",
       "      <td>914</td>\n",
       "    </tr>\n",
       "    <tr>\n",
       "      <th>6</th>\n",
       "      <td>Q14103</td>\n",
       "      <td>326</td>\n",
       "      <td>323</td>\n",
       "      <td>649</td>\n",
       "    </tr>\n",
       "    <tr>\n",
       "      <th>0</th>\n",
       "      <td>P62829</td>\n",
       "      <td>216</td>\n",
       "      <td>216</td>\n",
       "      <td>432</td>\n",
       "    </tr>\n",
       "    <tr>\n",
       "      <th>4</th>\n",
       "      <td>P30084</td>\n",
       "      <td>92</td>\n",
       "      <td>92</td>\n",
       "      <td>184</td>\n",
       "    </tr>\n",
       "    <tr>\n",
       "      <th>2</th>\n",
       "      <td>O14745</td>\n",
       "      <td>91</td>\n",
       "      <td>87</td>\n",
       "      <td>178</td>\n",
       "    </tr>\n",
       "    <tr>\n",
       "      <th>5</th>\n",
       "      <td>Q86VU5</td>\n",
       "      <td>61</td>\n",
       "      <td>60</td>\n",
       "      <td>121</td>\n",
       "    </tr>\n",
       "    <tr>\n",
       "      <th>1</th>\n",
       "      <td>Q99689</td>\n",
       "      <td>61</td>\n",
       "      <td>58</td>\n",
       "      <td>119</td>\n",
       "    </tr>\n",
       "  </tbody>\n",
       "</table>\n",
       "</div>"
      ],
      "text/plain": [
       "  Proteins  In_Degree  Out_Degree  Degrees\n",
       "3   P27348        454         460      914\n",
       "6   Q14103        326         323      649\n",
       "0   P62829        216         216      432\n",
       "4   P30084         92          92      184\n",
       "2   O14745         91          87      178\n",
       "5   Q86VU5         61          60      121\n",
       "1   Q99689         61          58      119"
      ]
     },
     "execution_count": 39,
     "metadata": {},
     "output_type": "execute_result"
    }
   ],
   "source": [
    "sorted_degrees = proteins_degrees.sort_values(by=['Degrees'], ascending=False)\n",
    "sorted_degrees"
   ]
  },
  {
   "cell_type": "code",
   "execution_count": 40,
   "id": "8244a1ee",
   "metadata": {},
   "outputs": [
    {
     "data": {
      "text/plain": [
       "7"
      ]
     },
     "execution_count": 40,
     "metadata": {},
     "output_type": "execute_result"
    }
   ],
   "source": [
    "len(sorted_degrees)"
   ]
  },
  {
   "cell_type": "code",
   "execution_count": 41,
   "id": "7158f431",
   "metadata": {},
   "outputs": [],
   "source": [
    "protein_degrees_file = open (\"Proteins_degrees.txt\",'w')\n",
    "protein_degrees_file.write(\"Protein\\tDegree\\n\\n\")\n",
    "\n",
    "for idx in sorted_degrees.index:\n",
    "    protein_degrees_file.write(f\"{sorted_degrees['Proteins'][idx]}\\t{sorted_degrees['Degrees'][idx]}\\n\")\n",
    "\n",
    "protein_degrees_file.close()"
   ]
  },
  {
   "cell_type": "code",
   "execution_count": 42,
   "id": "d2db0294",
   "metadata": {},
   "outputs": [
    {
     "data": {
      "image/png": "[encoded data removed]",
      "text/plain": [
       "<Figure size 576x360 with 1 Axes>"
      ]
     },
     "metadata": {
      "needs_background": "light"
     },
     "output_type": "display_data"
    }
   ],
   "source": [
    "import seaborn as sns\n",
    "fig, ax = plt.subplots(figsize=(8, 5))\n",
    "\n",
    "sns.histplot(data=proteins_degrees, x=\"Proteins\" , weights=degrees , shrink=.8)\n",
    "plt.show()"
   ]
  },
  {
   "cell_type": "code",
   "execution_count": 43,
   "id": "922312cb",
   "metadata": {},
   "outputs": [
    {
     "data": {
      "image/png": "[encoded data removed]",
      "text/plain": [
       "<Figure size 720x504 with 2 Axes>"
      ]
     },
     "metadata": {
      "needs_background": "light"
     },
     "output_type": "display_data"
    }
   ],
   "source": [
    "fig, axs = plt.subplots(2 ,figsize=(10, 7))\n",
    "\n",
    "\n",
    "sns.histplot(data=proteins_degrees, x=\"Proteins\",  weights=out_degrees ,color=\"skyblue\", label=\"out_degrees\" , shrink=.8 , ax=axs[0])\n",
    "\n",
    "sns.histplot(data=proteins_degrees, x=\"Proteins\", weights=in_degrees , color=\"red\", label=\"in_degrees\" , shrink=.8, ax=axs[1])\n",
    "\n",
    "fig.legend() \n",
    "plt.show()"
   ]
  },
  {
   "cell_type": "markdown",
   "id": "9b934017",
   "metadata": {},
   "source": [
    "## Provide a conversion map between the protein UniProt ID and its gene name.\n",
    "* You can be provided by one protein ID or a set of protein IDs, and then you need to get their corresponding gene names."
   ]
  },
  {
   "cell_type": "code",
   "execution_count": 44,
   "id": "b74938a3",
   "metadata": {},
   "outputs": [
    {
     "name": "stderr",
     "output_type": "stream",
     "text": [
      "0it [00:00, ?it/s]\n",
      "0it [00:00, ?it/s]\n",
      "0it [00:00, ?it/s]\n",
      "0it [00:00, ?it/s]\n",
      "0it [00:00, ?it/s]\n",
      "0it [00:00, ?it/s]\n",
      "0it [00:00, ?it/s]\n"
     ]
    }
   ],
   "source": [
    "# Make a link to the UniProt webservice\n",
    "service = UniProt()\n",
    "\n",
    "gene_names=[]\n",
    "UniProt_IDs =  ['P62829', 'Q99689', 'O14745', 'P27348', 'P30084', 'Q86VU5', 'Q14103']\n",
    "\n",
    "for ID in UniProt_IDs:\n",
    "    \n",
    "    # Send the query to UniProt, and catch the search result in a variable\n",
    "    result = service.search(ID)\n",
    "    gene_name=result.split(\"\\t\")[-3].split(\" \")[0]\n",
    "    gene_names.append(gene_name)"
   ]
  },
  {
   "cell_type": "code",
   "execution_count": 45,
   "id": "0a96a104",
   "metadata": {},
   "outputs": [
    {
     "name": "stderr",
     "output_type": "stream",
     "text": [
      "0it [00:00, ?it/s]"
     ]
    },
    {
     "name": "stdout",
     "output_type": "stream",
     "text": [
      "Entry\tEntry Name\tReviewed\tProtein names\tGene Names\tOrganism\tLength\n",
      "P62829\tRL23_HUMAN\treviewed\t60S ribosomal protein L23 (60S ribosomal protein L17) (Large ribosomal subunit protein uL14)\tRPL23\tHomo sapiens (Human)\t140\n"
     ]
    },
    {
     "name": "stderr",
     "output_type": "stream",
     "text": [
      "\n"
     ]
    }
   ],
   "source": [
    "# Make a link to the UniProt webservice\n",
    "service = UniProt()\n",
    "\n",
    "# Build a query string\n",
    "query = \"P62829\"\n",
    "\n",
    "# Send the query to UniProt, and catch the search result in a variable\n",
    "result = service.search(query)\n",
    "\n",
    "# Inspect the result\n",
    "print(result)"
   ]
  },
  {
   "cell_type": "code",
   "execution_count": 46,
   "id": "91664d5d",
   "metadata": {},
   "outputs": [
    {
     "data": {
      "text/plain": [
       "['RPL23', 'FEZ1', 'SLC9A3R1', 'YWHAQ', 'ECHS1', 'COMTD1', 'HNRNPD']"
      ]
     },
     "execution_count": 46,
     "metadata": {},
     "output_type": "execute_result"
    }
   ],
   "source": [
    "gene_names"
   ]
  }
 ],
 "metadata": {
  "kernelspec": {
   "display_name": "Python 3 (ipykernel)",
   "language": "python",
   "name": "python3"
  },
  "language_info": {
   "codemirror_mode": {
    "name": "ipython",
    "version": 3
   },
   "file_extension": ".py",
   "mimetype": "text/x-python",
   "name": "python",
   "nbconvert_exporter": "python",
   "pygments_lexer": "ipython3",
   "version": "3.9.5"
  }
 },
 "nbformat": 4,
 "nbformat_minor": 5
}
