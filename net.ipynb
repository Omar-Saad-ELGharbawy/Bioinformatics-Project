{
 "cells": [
  {
   "cell_type": "code",
   "execution_count": 2,
   "metadata": {},
   "outputs": [
    {
     "ename": "ModuleNotFoundError",
     "evalue": "No module named 'Conversion'",
     "output_type": "error",
     "traceback": [
      "\u001b[1;31m---------------------------------------------------------------------------\u001b[0m",
      "\u001b[1;31mModuleNotFoundError\u001b[0m                       Traceback (most recent call last)",
      "\u001b[1;32mi:\\SBME_5th_Term\\Bioinformatics\\Project BioInfo\\Project Repo\\Bioinformatics-Project\\net.ipynb Cell 1\u001b[0m in \u001b[0;36m<cell line: 1>\u001b[1;34m()\u001b[0m\n\u001b[1;32m----> <a href='vscode-notebook-cell:/i%3A/SBME_5th_Term/Bioinformatics/Project%20BioInfo/Project%20Repo/Bioinformatics-Project/net.ipynb#W0sZmlsZQ%3D%3D?line=0'>1</a>\u001b[0m \u001b[39mfrom\u001b[39;00m \u001b[39mPyEntrezId\u001b[39;00m \u001b[39mimport\u001b[39;00m Conversion\n\u001b[0;32m      <a href='vscode-notebook-cell:/i%3A/SBME_5th_Term/Bioinformatics/Project%20BioInfo/Project%20Repo/Bioinformatics-Project/net.ipynb#W0sZmlsZQ%3D%3D?line=2'>3</a>\u001b[0m UniProtId \u001b[39m=\u001b[39m \u001b[39m'\u001b[39m\u001b[39mQ9BWD1\u001b[39m\u001b[39m'\u001b[39m\n\u001b[0;32m      <a href='vscode-notebook-cell:/i%3A/SBME_5th_Term/Bioinformatics/Project%20BioInfo/Project%20Repo/Bioinformatics-Project/net.ipynb#W0sZmlsZQ%3D%3D?line=3'>4</a>\u001b[0m \u001b[39m# include your email address\u001b[39;00m\n",
      "File \u001b[1;32mc:\\Users\\Lenovo\\AppData\\Local\\Programs\\Python\\Python310\\lib\\site-packages\\PyEntrezId\\__init__.py:1\u001b[0m, in \u001b[0;36m<module>\u001b[1;34m\u001b[0m\n\u001b[1;32m----> 1\u001b[0m \u001b[39mfrom\u001b[39;00m \u001b[39mConversion\u001b[39;00m \u001b[39mimport\u001b[39;00m Conversion\n",
      "\u001b[1;31mModuleNotFoundError\u001b[0m: No module named 'Conversion'"
     ]
    }
   ],
   "source": [
    "from PyEntrezId import Conversion\n",
    "\n",
    "UniProtId = 'Q9BWD1'\n",
    "# include your email address\n",
    "Id = Conversion('dummyemail@dummybunny.info')\n",
    "EntrezID = Id.convert_uniprot_to_entrez(UniProtId)\n",
    "# Returns a string\n",
    "print(EntrezID)"
   ]
  },
  {
   "cell_type": "code",
   "execution_count": null,
   "metadata": {},
   "outputs": [],
   "source": []
  }
 ],
 "metadata": {
  "kernelspec": {
   "display_name": "Python 3",
   "language": "python",
   "name": "python3"
  },
  "language_info": {
   "codemirror_mode": {
    "name": "ipython",
    "version": 3
   },
   "file_extension": ".py",
   "mimetype": "text/x-python",
   "name": "python",
   "nbconvert_exporter": "python",
   "pygments_lexer": "ipython3",
   "version": "3.10.4"
  },
  "orig_nbformat": 4,
  "vscode": {
   "interpreter": {
    "hash": "8c3d4d9970fc5c09c50d9318a9c7fbf4d0159e4b28833276f5678ee22bded273"
   }
  }
 },
 "nbformat": 4,
 "nbformat_minor": 2
}
